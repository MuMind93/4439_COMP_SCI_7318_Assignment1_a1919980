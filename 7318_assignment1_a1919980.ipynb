{
 "cells": [
  {
   "cell_type": "markdown",
   "id": "a8fe171d-b01b-4fb2-bcac-bb10e16b1c01",
   "metadata": {},
   "source": [
    "# Assessment 1: Predict diabetes using Perceptron"
   ]
  },
  {
   "cell_type": "markdown",
   "id": "28466c72-a03e-4ebf-8335-41c51a4a71f9",
   "metadata": {},
   "source": [
    "## Overview"
   ]
  },
  {
   "cell_type": "markdown",
   "id": "6bfe19ba-8675-4c6b-9f3d-9820b904ccb3",
   "metadata": {},
   "source": [
    "The first assignment is to implement, describe, and test\n",
    "a specific algorithm called Perceptron (which can be\n",
    "interpreted as a dense layer neural network) for predicting\n",
    "diabetes (using the diabetes dataset provided). "
   ]
  },
  {
   "cell_type": "markdown",
   "id": "2429b40b-a3ee-4636-876b-3d0e22623785",
   "metadata": {},
   "source": [
    "## Import Packages\n"
   ]
  },
  {
   "cell_type": "code",
   "execution_count": 4,
   "id": "ce95f75c-7f0d-4eb9-babe-4f74966e3737",
   "metadata": {},
   "outputs": [],
   "source": [
    "# Common imports\n",
    "import numpy as np\n",
    "import pandas as pd\n",
    "\n",
    "# visualizaiton\n",
    "import matplotlib as mpl\n",
    "import matplotlib.pyplot as plt\n",
    "import seaborn as sns\n",
    "\n",
    "# machine learning & Deep learning imports\n",
    "import sklearn\n",
    "import torch\n"
   ]
  },
  {
   "cell_type": "markdown",
   "id": "f405feb2-a234-467b-a6d3-d9d1aa637384",
   "metadata": {},
   "source": [
    "## Data Loading"
   ]
  },
  {
   "cell_type": "code",
   "execution_count": 5,
   "id": "21f027e2-bec4-474b-ae05-d983b8d60011",
   "metadata": {},
   "outputs": [
    {
     "name": "stdout",
     "output_type": "stream",
     "text": [
      "torch.Size([768, 8]) torch.Size([768])\n"
     ]
    }
   ],
   "source": [
    "def load_dataset(filename):\n",
    "    # Read the data using whitespace as delimiter, assuming no headers\n",
    "    data = pd.read_csv(filename, sep='\\s+', header=None)\n",
    "    \n",
    "    # Extract labels and initialize the matrix for features\n",
    "    labels = data.iloc[:, 0].apply(lambda x: 1 if int(x) == 1 else 0).values\n",
    "    num_samples = data.shape[0]\n",
    "\n",
    "    # Prepare to find the maximum index for feature array initialization\n",
    "    max_index = 0\n",
    "    for index, row in data.iterrows():\n",
    "        for item in row[1:]:\n",
    "            if isinstance(item, str) and ':' in item:\n",
    "                feature_idx = int(item.split(':')[0])\n",
    "                if feature_idx > max_index:\n",
    "                    max_index = feature_idx\n",
    "\n",
    "    # Initialize the features array\n",
    "    features = np.zeros((num_samples, max_index), dtype=np.float32)\n",
    "\n",
    "    # Populate the features array\n",
    "    for i, row in enumerate(data.itertuples(index=False)):\n",
    "        for item in row[1:]:  # Skip the first element as it's the label\n",
    "            if isinstance(item, str) and ':' in item:\n",
    "                idx, val = item.split(':')\n",
    "                features[i, int(idx) - 1] = float(val)  # Correct index and convert value\n",
    "\n",
    "    # Convert labels and features into PyTorch tensors\n",
    "    return torch.tensor(features), torch.tensor(labels, dtype=torch.float32)\n",
    "\n",
    "# Load the pre-processed data diabetes_scale.txt\n",
    "features, labels = load_dataset('diabetes_scale.txt')\n",
    "print(features.shape, labels.shape)"
   ]
  },
  {
   "cell_type": "code",
   "execution_count": null,
   "id": "909e6828-cac1-4aea-99fe-404c48b49a14",
   "metadata": {},
   "outputs": [],
   "source": []
  }
 ],
 "metadata": {
  "kernelspec": {
   "display_name": "Python 3 (ipykernel)",
   "language": "python",
   "name": "python3"
  },
  "language_info": {
   "codemirror_mode": {
    "name": "ipython",
    "version": 3
   },
   "file_extension": ".py",
   "mimetype": "text/x-python",
   "name": "python",
   "nbconvert_exporter": "python",
   "pygments_lexer": "ipython3",
   "version": "3.11.5"
  }
 },
 "nbformat": 4,
 "nbformat_minor": 5
}
