{
 "cells": [
  {
   "cell_type": "markdown",
   "id": "a8fe171d-b01b-4fb2-bcac-bb10e16b1c01",
   "metadata": {},
   "source": [
    "# Assessment 1: Predict diabetes using Perceptron"
   ]
  },
  {
   "cell_type": "markdown",
   "id": "28466c72-a03e-4ebf-8335-41c51a4a71f9",
   "metadata": {},
   "source": [
    "## Overview"
   ]
  },
  {
   "cell_type": "markdown",
   "id": "6bfe19ba-8675-4c6b-9f3d-9820b904ccb3",
   "metadata": {},
   "source": [
    "The first assignment is to implement, describe, and test\n",
    "a specific algorithm called Perceptron (which can be\n",
    "interpreted as a dense layer neural network) for predicting\n",
    "diabetes (using the diabetes dataset provided). "
   ]
  },
  {
   "cell_type": "markdown",
   "id": "2429b40b-a3ee-4636-876b-3d0e22623785",
   "metadata": {},
   "source": [
    "## Import Packages\n"
   ]
  },
  {
   "cell_type": "code",
   "execution_count": 4,
   "id": "ce95f75c-7f0d-4eb9-babe-4f74966e3737",
   "metadata": {},
   "outputs": [],
   "source": [
    "# Common imports\n",
    "import numpy as np\n",
    "import pandas as pd\n",
    "\n",
    "# visualizaiton\n",
    "import matplotlib as mpl\n",
    "import matplotlib.pyplot as plt\n",
    "import seaborn as sns\n",
    "\n",
    "# machine learning & Deep learning imports\n",
    "import sklearn\n",
    "import torch\n"
   ]
  },
  {
   "cell_type": "markdown",
   "id": "f405feb2-a234-467b-a6d3-d9d1aa637384",
   "metadata": {},
   "source": [
    "## Data Loading"
   ]
  },
  {
   "cell_type": "code",
   "execution_count": 45,
   "id": "21f027e2-bec4-474b-ae05-d983b8d60011",
   "metadata": {},
   "outputs": [
    {
     "name": "stdout",
     "output_type": "stream",
     "text": [
      "torch.Size([768, 8]) torch.Size([768])\n"
     ]
    }
   ],
   "source": [
    "def load_dataset(filename):\n",
    "    # Read the data using whitespace as delimiter, assuming no headers\n",
    "    data = pd.read_csv(filename, sep='\\s+', header=None)\n",
    "    \n",
    "    # Extract labels and initialize the matrix for features\n",
    "    labels = data.iloc[:, 0].apply(lambda x: 1 if int(x) == 1 else 0).values\n",
    "    num_samples = data.shape[0]\n",
    "\n",
    "    # Prepare to find the maximum index for feature array initialization\n",
    "    max_index = 0\n",
    "    for index, row in data.iterrows():\n",
    "        for item in row[1:]:\n",
    "            if isinstance(item, str) and ':' in item:\n",
    "                feature_idx = int(item.split(':')[0])\n",
    "                if feature_idx > max_index:\n",
    "                    max_index = feature_idx\n",
    "                    \n",
    "    # Initialize the features array with NaN values\n",
    "    features = np.full((num_samples, max_index), np.nan, dtype=np.float32)\n",
    "\n",
    "    # Populate the features array\n",
    "    for i, row in enumerate(data.itertuples(index=False)):\n",
    "        for item in row[1:]:  # Skip the first element as it's the label\n",
    "            if isinstance(item, str) and ':' in item:\n",
    "                idx, val = item.split(':')\n",
    "                features[i, int(idx) - 1] = float(val)  # Correct index and convert value\n",
    "\n",
    "    # Convert labels and features into PyTorch tensors\n",
    "    return torch.tensor(features), torch.tensor(labels, dtype=torch.float32)\n",
    "\n",
    "# Load the pre-processed data diabetes_scale.txt\n",
    "features, labels = load_dataset('diabetes_scale.txt')\n",
    "print(features.shape, labels.shape)"
   ]
  },
  {
   "cell_type": "code",
   "execution_count": 46,
   "id": "71eebba5-38f7-43db-b38b-aeeda36c0bfc",
   "metadata": {},
   "outputs": [
    {
     "name": "stdout",
     "output_type": "stream",
     "text": [
      "Rows with NaN values: [ 14  24 236 259 285 401 458 517 658]\n"
     ]
    }
   ],
   "source": [
    "features_np = features.numpy()\n",
    "labels_np = labels.numpy()\n",
    "\n",
    "# Check for rows with missing values (np.nan)\n",
    "rows_with_nan = np.any(np.isnan(features_np), axis=1)  # Returns a boolean array: True if the row has any NaN values\n",
    "\n",
    "# Get the indices of rows with NaN values\n",
    "nan_indices = np.where(rows_with_nan)[0]\n",
    "print(f\"Rows with NaN values: {nan_indices}\")"
   ]
  },
  {
   "cell_type": "markdown",
   "id": "abb13e05-99e5-43ea-b0ff-14ebd9382fbd",
   "metadata": {},
   "source": [
    "## Perceptron Model"
   ]
  },
  {
   "cell_type": "code",
   "execution_count": 47,
   "id": "73bf4d77-427b-417d-881a-c44f6d8c0eea",
   "metadata": {},
   "outputs": [],
   "source": [
    "import torch.nn as nn\n",
    "import torch.optim as optim\n",
    "\n",
    "class PyTorchPerceptron(nn.Module):\n",
    "    def __init__(self, input_dim):\n",
    "        super(PyTorchPerceptron, self).__init__()\n",
    "        self.fc = nn.Linear(input_dim, 1)\n",
    "    \n",
    "    def forward(self, x):\n",
    "        return torch.sigmoid(self.fc(x))"
   ]
  },
  {
   "cell_type": "code",
   "execution_count": 70,
   "id": "a0c793c8-9464-481a-b550-3ea1d14cd887",
   "metadata": {},
   "outputs": [],
   "source": [
    "from sklearn.base import BaseEstimator, ClassifierMixin\n",
    "from torch.utils.data import DataLoader, TensorDataset\n",
    "\n",
    "class PyTorchPerceptronClassifier(BaseEstimator, ClassifierMixin):\n",
    "    def __init__(self, input_dim, epochs=20, batch_size=16, learning_rate=0.001):\n",
    "        self.input_dim = input_dim\n",
    "        self.epochs = epochs\n",
    "        self.batch_size = batch_size\n",
    "        self.learning_rate = learning_rate\n",
    "        self.model = PyTorchPerceptron(input_dim)\n",
    "        self.criterion = nn.BCELoss()\n",
    "        self.optimizer = optim.Adam(self.model.parameters(), lr=learning_rate)\n",
    "    \n",
    "    def fit(self, X, y):\n",
    "        X_tensor = torch.tensor(X, dtype=torch.float32)\n",
    "        y_tensor = torch.tensor(y, dtype=torch.float32).unsqueeze(1)\n",
    "        dataset = TensorDataset(X_tensor, y_tensor)\n",
    "        loader = DataLoader(dataset, batch_size=self.batch_size, shuffle=True)\n",
    "        \n",
    "        self.model.train()\n",
    "        for epoch in range(self.epochs):\n",
    "            for inputs, targets in loader:\n",
    "                self.optimizer.zero_grad()\n",
    "                outputs = self.model(inputs)\n",
    "                loss = self.criterion(outputs, targets)\n",
    "                loss.backward()\n",
    "                self.optimizer.step()\n",
    "        return self\n",
    "    \n",
    "    def predict(self, X):\n",
    "        self.model.eval()\n",
    "        X_tensor = torch.tensor(X, dtype=torch.float32)\n",
    "        with torch.no_grad():\n",
    "            outputs = self.model(X_tensor)\n",
    "        return (outputs.numpy() > 0.5).astype(int)\n",
    "    \n",
    "    def score(self, X, y):\n",
    "        predictions = self.predict(X)\n",
    "        return np.mean(predictions == y)"
   ]
  },
  {
   "cell_type": "markdown",
   "id": "16eb98d2-c8b7-4de6-ad28-91e8941afec2",
   "metadata": {},
   "source": [
    "## Pipeline of imuptation and training"
   ]
  },
  {
   "cell_type": "code",
   "execution_count": 71,
   "id": "4bf10827-5aa2-4bcf-b837-17c832861660",
   "metadata": {},
   "outputs": [
    {
     "name": "stdout",
     "output_type": "stream",
     "text": [
      "Accuracy of the PyTorch model within the scikit-learn pipeline: 0.6397\n"
     ]
    }
   ],
   "source": [
    "from sklearn.pipeline import Pipeline\n",
    "from sklearn.impute import SimpleImputer\n",
    "from sklearn.model_selection import train_test_split\n",
    "import numpy as np\n",
    "\n",
    "# Load and split your data\n",
    "# X and y should be loaded as numpy arrays from your dataset\n",
    "X_train, X_test, y_train, y_test = train_test_split(features_np, labels_np, test_size=0.2, random_state=42, stratify=labels_np)\n",
    "\n",
    "# Create an imputer object and a PyTorch model wrapped for scikit-learn\n",
    "imputer = SimpleImputer(strategy='median')\n",
    "pytorch_model = PyTorchPerceptronClassifier(input_dim=X_train.shape[1])\n",
    "\n",
    "# Create the pipeline\n",
    "pipeline = Pipeline([\n",
    "    ('imputer', imputer),\n",
    "    ('classifier', pytorch_model)\n",
    "])\n",
    "\n",
    "# Fit the model\n",
    "pipeline.fit(X_train, y_train)\n",
    "\n",
    "# Evaluate the model\n",
    "accuracy = pipeline.score(X_test, y_test)\n",
    "print(f\"Accuracy of the PyTorch model within the scikit-learn pipeline: {accuracy:.4f}\")"
   ]
  },
  {
   "cell_type": "code",
   "execution_count": null,
   "id": "fd80f255-c08f-4bd2-949a-0b4a22bb684d",
   "metadata": {},
   "outputs": [],
   "source": []
  }
 ],
 "metadata": {
  "kernelspec": {
   "display_name": "Python 3 (ipykernel)",
   "language": "python",
   "name": "python3"
  },
  "language_info": {
   "codemirror_mode": {
    "name": "ipython",
    "version": 3
   },
   "file_extension": ".py",
   "mimetype": "text/x-python",
   "name": "python",
   "nbconvert_exporter": "python",
   "pygments_lexer": "ipython3",
   "version": "3.11.5"
  }
 },
 "nbformat": 4,
 "nbformat_minor": 5
}
