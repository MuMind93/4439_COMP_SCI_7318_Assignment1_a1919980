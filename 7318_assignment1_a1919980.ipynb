{
 "cells": [
  {
   "cell_type": "markdown",
   "id": "a8fe171d-b01b-4fb2-bcac-bb10e16b1c01",
   "metadata": {},
   "source": [
    "# Assessment 1: Predict diabetes using Perceptron"
   ]
  },
  {
   "cell_type": "markdown",
   "id": "28466c72-a03e-4ebf-8335-41c51a4a71f9",
   "metadata": {},
   "source": [
    "## Overview"
   ]
  },
  {
   "cell_type": "markdown",
   "id": "6bfe19ba-8675-4c6b-9f3d-9820b904ccb3",
   "metadata": {},
   "source": [
    "The first assignment is to implement, describe, and test\n",
    "a specific algorithm called Perceptron (which can be\n",
    "interpreted as a dense layer neural network) for predicting\n",
    "diabetes (using the diabetes dataset provided). "
   ]
  },
  {
   "cell_type": "markdown",
   "id": "f405feb2-a234-467b-a6d3-d9d1aa637384",
   "metadata": {},
   "source": [
    "## Data Loading"
   ]
  },
  {
   "cell_type": "code",
   "execution_count": 2,
   "id": "ce95f75c-7f0d-4eb9-babe-4f74966e3737",
   "metadata": {},
   "outputs": [],
   "source": [
    "# Common imports\n",
    "import numpy as np\n",
    "import pandas as pd\n",
    "\n",
    "# visualizaiton\n",
    "import matplotlib as mpl\n",
    "import matplotlib.pyplot as plt\n",
    "import seaborn as sns\n",
    "\n",
    "# machine learning & Deep learning imports\n",
    "import sklearn\n",
    "import tensorflow as tf\n",
    "from tensorflow import keras\n"
   ]
  },
  {
   "cell_type": "code",
   "execution_count": 3,
   "id": "21f027e2-bec4-474b-ae05-d983b8d60011",
   "metadata": {},
   "outputs": [
    {
     "name": "stdout",
     "output_type": "stream",
     "text": [
      "Shape of the data: (768, 8)\n",
      "Sample row: [-0.294118    0.487437    0.180328   -0.292929   -1.          0.00149028\n",
      " -0.53117    -0.0333333 ]\n"
     ]
    }
   ],
   "source": [
    "# Load the pre-processed data diabetes_scale.txt\n",
    "data = []\n",
    "labels = []\n",
    "\n",
    "# Step 1: Set the features number as 8 based on the description of the dataset\n",
    "feature_num = 8\n",
    "\n",
    "with open('diabetes_scale.txt', 'r') as f:\n",
    "    for line in f:\n",
    "        line = line.strip().split()\n",
    "        labels.append(int(line[0]))  # First item is the label (+1 or -1)\n",
    "        \n",
    "        # Extract feature-value pairs, split by ':', and update max feature index\n",
    "        features = {int(item.split(\":\")[0]): float(item.split(\":\")[1]) for item in line[1:]}\n",
    "        data.append(features)\n",
    "\n",
    "# Step 2: Create a NumPy array with np.nan for missing features\n",
    "# Initialize an array with np.nan and populate it with existing feature values\n",
    "X = np.full((len(data), feature_num), np.nan)  # Initialize with np.nan\n",
    "\n",
    "for i, features in enumerate(data):\n",
    "    for idx, value in features.items():\n",
    "        X[i, idx - 1] = value  # Subtract 1 since feature indices are 1-based in the file\n",
    "\n",
    "y = np.array(labels)\n",
    "\n",
    "# Now you can proceed to use X and y for further processing or model training\n",
    "print(\"Shape of the data:\", X.shape)\n",
    "print(\"Sample row:\", X[0])"
   ]
  },
  {
   "cell_type": "code",
   "execution_count": 4,
   "id": "cc8a4206-71e8-485f-9941-ea5d6ed202e2",
   "metadata": {},
   "outputs": [
    {
     "name": "stdout",
     "output_type": "stream",
     "text": [
      "Rows with NaN values: [ 14  24 236 259 285 401 458 517 658]\n"
     ]
    }
   ],
   "source": [
    "# Check for rows with missing values (np.nan)\n",
    "rows_with_nan = np.any(np.isnan(X), axis=1)  # Returns a boolean array: True if the row has any NaN values\n",
    "\n",
    "# Get the indices of rows with NaN values\n",
    "nan_indices = np.where(rows_with_nan)[0]\n",
    "\n",
    "print(f\"Rows with NaN values: {nan_indices}\")"
   ]
  },
  {
   "cell_type": "code",
   "execution_count": null,
   "id": "909e6828-cac1-4aea-99fe-404c48b49a14",
   "metadata": {},
   "outputs": [],
   "source": []
  }
 ],
 "metadata": {
  "kernelspec": {
   "display_name": "Python 3 (ipykernel)",
   "language": "python",
   "name": "python3"
  },
  "language_info": {
   "codemirror_mode": {
    "name": "ipython",
    "version": 3
   },
   "file_extension": ".py",
   "mimetype": "text/x-python",
   "name": "python",
   "nbconvert_exporter": "python",
   "pygments_lexer": "ipython3",
   "version": "3.11.5"
  }
 },
 "nbformat": 4,
 "nbformat_minor": 5
}
